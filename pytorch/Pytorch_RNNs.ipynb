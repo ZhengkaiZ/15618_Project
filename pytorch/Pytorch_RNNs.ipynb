{
 "cells": [
  {
   "cell_type": "code",
   "execution_count": 3,
   "metadata": {},
   "outputs": [],
   "source": [
    "import numpy as np\n",
    "import sys\n",
    "from datetime import datetime\n",
    "\n",
    "import torch\n",
    "import torch.nn as nn\n",
    "import torch.nn.utils.rnn as rnn\n",
    "from torch.utils.data import Dataset, DataLoader, TensorDataset"
   ]
  },
  {
   "cell_type": "code",
   "execution_count": 4,
   "metadata": {},
   "outputs": [],
   "source": [
    "vocabulary_size = 2000\n",
    "BATCH_SIZE = 64"
   ]
  },
  {
   "cell_type": "code",
   "execution_count": 14,
   "metadata": {},
   "outputs": [],
   "source": [
    "X = np.load('../data/X_train.npy')\n",
    "y = np.load('../data/y_train.npy')"
   ]
  },
  {
   "cell_type": "code",
   "execution_count": 5,
   "metadata": {},
   "outputs": [],
   "source": [
    "class RedditDataSet(Dataset):\n",
    "\n",
    "    def __init__(self, lines, labels):\n",
    "        self.lines = [torch.tensor(line) for line in lines]\n",
    "        self.labels = [torch.tensor(label) for label in labels]\n",
    "\n",
    "    def __getitem__(self, i):\n",
    "        line = self.lines[i]\n",
    "        label = self.labels[i]\n",
    "\n",
    "        return line, label\n",
    "\n",
    "    def __len__(self):\n",
    "        return len(self.lines)\n",
    "\n",
    "def collate(seq_list):\n",
    "    inputs, labels = zip(*seq_list)\n",
    "    lens = [len(seq) for seq in inputs]\n",
    "    seq_order = sorted(range(len(lens)), key=lens.__getitem__, reverse=True)\n",
    "    inputs = [inputs[i] for i in seq_order]\n",
    "    labels = [labels[i] for i in seq_order]\n",
    "\n",
    "    return inputs, labels"
   ]
  },
  {
   "cell_type": "code",
   "execution_count": 70,
   "metadata": {},
   "outputs": [],
   "source": [
    "class DataSetCreater:\n",
    "\n",
    "    def __init__(self, x_train):\n",
    "        self.x = x_train\n",
    "\n",
    "        self.x_data = None\n",
    "        self.y_data = None\n",
    "\n",
    "    def build(self):\n",
    "        self.x_data = []\n",
    "        self.y_data = []\n",
    "        print(\"Building...\")\n",
    "        for data in self.x:\n",
    "            tmp_x, tmp_y = self.build_helper(data)\n",
    "            self.x_data.append(tmp_x)\n",
    "            self.y_data.append(tmp_y)\n",
    "\n",
    "        print(\"Finishing Building\")\n",
    "        return RedditDataSet(self.x_data, self.y_data)\n",
    "\n",
    "    def build_helper(self, data):\n",
    "        data.append(1)\n",
    "        result = np.zeros((len(data), vocabulary_size))\n",
    "        for i, value in enumerate(data):\n",
    "            result[i][value] = 1\n",
    "\n",
    "        return torch.FloatTensor(result[:-1]), torch.IntTensor(data[1:])"
   ]
  },
  {
   "cell_type": "code",
   "execution_count": 71,
   "metadata": {},
   "outputs": [
    {
     "name": "stdout",
     "output_type": "stream",
     "text": [
      "Building...\n",
      "Finishing Building\n"
     ]
    }
   ],
   "source": [
    "d = DataSetCreater(x_train=X[:int(len(X) * 0.9)])\n",
    "train_dataset = d.build()"
   ]
  },
  {
   "cell_type": "code",
   "execution_count": 72,
   "metadata": {},
   "outputs": [
    {
     "name": "stdout",
     "output_type": "stream",
     "text": [
      "Building...\n",
      "Finishing Building\n"
     ]
    }
   ],
   "source": [
    "d = DataSetCreater(x_train=X[int(len(X) * 0.9):])\n",
    "val_dataset = d.build()"
   ]
  },
  {
   "cell_type": "code",
   "execution_count": 73,
   "metadata": {},
   "outputs": [],
   "source": [
    "train_data_loader = DataLoader(train_dataset, batch_size=BATCH_SIZE, collate_fn=collate, shuffle=False)\n",
    "val_data_loader = DataLoader(val_dataset, batch_size=BATCH_SIZE, collate_fn=collate, shuffle=False)"
   ]
  },
  {
   "cell_type": "code",
   "execution_count": 74,
   "metadata": {},
   "outputs": [],
   "source": [
    "class RNN(nn.Module):\n",
    "    \n",
    "    def __init__(self, nlayers, input_size, hidden_size, output_size, rnn_type='LSTM'):\n",
    "        super(RNN, self).__init__()\n",
    "        self.nlayers = nlayers\n",
    "        self.input_size = input_size\n",
    "        self.hidden_size = hidden_size\n",
    "        self.output_size = output_size\n",
    "        if rnn_type == \"LSTM\":\n",
    "            self.cell = nn.LSTM\n",
    "        else:\n",
    "            self.cell = nn.GRU\n",
    "            \n",
    "        self.rnn = nn.LSTM(input_size=self.input_size, hidden_size=self.output_size)\n",
    "        \n",
    "    def forward(self, seq_list):\n",
    "        batch_size = len(seq_list)\n",
    "        lens = [len(s) for s in seq_list]\n",
    "        max_len = lens[0]\n",
    "        \n",
    "        input_padded = rnn.pad_sequence(seq_list, batch_first=True)\n",
    "        input_pack = rnn.pack_padded_sequence(input_padded, batch_first=True, lengths=lens)\n",
    "        \n",
    "        output_pack, _ = self.rnn(input_pack)\n",
    "        \n",
    "        output, _ = rnn.pad_packed_sequence(output_pack)\n",
    "        \n",
    "        return output, lens"
   ]
  },
  {
   "cell_type": "code",
   "execution_count": 180,
   "metadata": {},
   "outputs": [],
   "source": [
    "class Trainer:\n",
    "    \n",
    "    def __init__(self, input_size, output_size, train_data_loader, val_data_loader, nlayers, cell_type='LSTM'):\n",
    "        self.model = RNN(input_size=input_size, hidden_size=output_size, output_size=output_size, nlayers=nlayers, rnn_type=cell_type)\n",
    "        \n",
    "        self.train_data_loader = train_data_loader\n",
    "        self.val_data_loader = val_data_loader\n",
    "        self.optimizer = torch.optim.SGD(params=self.model.parameters(), lr=0.00002)\n",
    "        self.criterion = torch.nn.CrossEntropyLoss()\n",
    "        \n",
    "    def train(self, epoches):\n",
    "        print(\"Start Training...\")\n",
    "        for epoch in range(epoches):\n",
    "            self.model.train()\n",
    "            loss_rec = 0\n",
    "            for batch_size, (data, target) in enumerate(self.train_data_loader):\n",
    "                self.optimizer.zero_grad()\n",
    "                output, lens = self.model(data)\n",
    "\n",
    "                preds = [output[:lens[i], i] for i in range(len(data))]\n",
    "                preds = torch.cat(preds, dim=0)\n",
    "\n",
    "                target = torch.cat(target, dim=0).type(torch.LongTensor)\n",
    "                loss = self.criterion(preds, target)\n",
    "                loss_rec += loss.item()\n",
    "                loss.backward()\n",
    "    \n",
    "            print(\"At epoch {} the loss is {}\", str(epoch), str(loss_rec))\n",
    "            \n",
    "#             if epoch % 2 == 0:\n",
    "# #                 self.model.eval()\n",
    "# #                 loss_rec = 0\n",
    "# #                 accuracy = 1\n",
    "# #                 total = 0\n",
    "# #                 for batch_size, (data, target) in enumerate(self.val_data_loader):\n",
    "# #                     output, lens = self.model(data)\n",
    "# #                     preds = [torch.argmax(output[:lens[i], i], dim=1).type(torch.int32) for i in range(len(data))]\n",
    "# #                     total += len(data)\n",
    "# #                     for i in range(len(data)):\n",
    "# #                         accuracy += torch.sum(preds[i] == target[i])\n",
    "\n",
    "# #                 accuracy /= total\n",
    "# #                 print(\"At epoch {}, the accuracy is {}\".format(str(epoch), str(accuracy.item())))"
   ]
  },
  {
   "cell_type": "code",
   "execution_count": 181,
   "metadata": {},
   "outputs": [],
   "source": [
    "trainer = Trainer(input_size=2000, output_size=2000, train_data_loader=train_data_loader, val_data_loader=val_data_loader,nlayers=2)"
   ]
  },
  {
   "cell_type": "code",
   "execution_count": null,
   "metadata": {},
   "outputs": [
    {
     "name": "stdout",
     "output_type": "stream",
     "text": [
      "Start Training...\n"
     ]
    }
   ],
   "source": [
    "trainer.train(10)"
   ]
  }
 ],
 "metadata": {
  "kernelspec": {
   "display_name": "Python 3",
   "language": "python",
   "name": "python3"
  },
  "language_info": {
   "codemirror_mode": {
    "name": "ipython",
    "version": 3
   },
   "file_extension": ".py",
   "mimetype": "text/x-python",
   "name": "python",
   "nbconvert_exporter": "python",
   "pygments_lexer": "ipython3",
   "version": "3.6.6"
  }
 },
 "nbformat": 4,
 "nbformat_minor": 2
}
