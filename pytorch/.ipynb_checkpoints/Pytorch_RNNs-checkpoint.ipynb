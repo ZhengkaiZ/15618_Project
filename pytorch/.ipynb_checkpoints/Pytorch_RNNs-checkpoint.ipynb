{
 "cells": [
  {
   "cell_type": "code",
   "execution_count": 3,
   "metadata": {},
   "outputs": [],
   "source": [
    "import numpy as np\n",
    "import sys\n",
    "from datetime import datetime\n",
    "\n",
    "import torch\n",
    "import torch.nn as nn\n",
    "import torch.nn.utils.rnn as rnn\n",
    "from torch.utils.data import Dataset, DataLoader, TensorDataset"
   ]
  },
  {
   "cell_type": "code",
   "execution_count": 4,
   "metadata": {},
   "outputs": [],
   "source": [
    "vocabulary_size = 2000\n",
    "BATCH_SIZE = 64"
   ]
  },
  {
   "cell_type": "code",
   "execution_count": 5,
   "metadata": {},
   "outputs": [],
   "source": [
    "class RedditDataSet(Dataset):\n",
    "\n",
    "    def __init__(self, lines, labels):\n",
    "        self.lines = [torch.tensor(line) for line in lines]\n",
    "        self.labels = [torch.tensor(label) for label in labels]\n",
    "\n",
    "    def __getitem__(self, i):\n",
    "        line = self.lines[i]\n",
    "        label = self.labels[i]\n",
    "\n",
    "        return line, label\n",
    "\n",
    "    def __len__(self):\n",
    "        return len(self.lines)\n",
    "\n",
    "def collate(seq_list):\n",
    "    inputs, labels = zip(*seq_list)\n",
    "    lens = [len(seq) for seq in inputs]\n",
    "    seq_order = sorted(range(len(lens)), key=lens.__getitem__, reverse=True)\n",
    "    inputs = [inputs[i] for i in seq_order]\n",
    "    labels = [labels[i] for i in seq_order]\n",
    "\n",
    "    return inputs, labels"
   ]
  },
  {
   "cell_type": "code",
   "execution_count": 6,
   "metadata": {},
   "outputs": [],
   "source": [
    "class DataSetCreater:\n",
    "\n",
    "    def __init__(self):\n",
    "        self.x = np.load('../data/X_train.npy')\n",
    "\n",
    "        self.x_data = None\n",
    "        self.y_data = None\n",
    "\n",
    "    def build(self):\n",
    "        self.x_data = []\n",
    "        self.y_data = []\n",
    "        print(\"Building...\")\n",
    "        for data in self.x:\n",
    "            tmp_x, tmp_y = self.build_helper(data)\n",
    "            self.x_data.append(tmp_x)\n",
    "            self.y_data.append(tmp_y)\n",
    "\n",
    "        print(\"Finishing Building\")\n",
    "        return RedditDataSet(self.x_data, self.y_data)\n",
    "\n",
    "    def build_helper(self, data):\n",
    "        data.append(1)\n",
    "        result = np.zeros((len(data), vocabulary_size))\n",
    "        for i, value in enumerate(data):\n",
    "            result[i][value] = 1\n",
    "\n",
    "        return torch.FloatTensor(result[:-1]), torch.FloatTensor(data[1:])"
   ]
  },
  {
   "cell_type": "code",
   "execution_count": 7,
   "metadata": {},
   "outputs": [
    {
     "name": "stdout",
     "output_type": "stream",
     "text": [
      "Building...\n",
      "Finishing Building\n"
     ]
    }
   ],
   "source": [
    "d = DataSetCreater()\n",
    "dataset = d.build()"
   ]
  },
  {
   "cell_type": "code",
   "execution_count": 8,
   "metadata": {},
   "outputs": [],
   "source": [
    "train_data_loader = DataLoader(dataset, batch_size=BATCH_SIZE, collate_fn=collate, shuffle=False)"
   ]
  },
  {
   "cell_type": "code",
   "execution_count": 9,
   "metadata": {},
   "outputs": [],
   "source": [
    "class RNN(nn.Module):\n",
    "    \n",
    "    def __init__(self, nlayers, input_size, hidden_size, output_size, rnn_type='LSTM'):\n",
    "        super(RNN, self).__init__()\n",
    "        self.nlayers = nlayers\n",
    "        self.input_size = input_size\n",
    "        self.hidden_size = hidden_size\n",
    "        self.output_size = output_size\n",
    "        if rnn_type == \"LSTM\":\n",
    "            self.cell = nn.LSTM\n",
    "        else:\n",
    "            self.cell = nn.GRU\n",
    "            \n",
    "        self.rnn = nn.LSTM(input_size=self.input_size, hidden_size=self.output_size)\n",
    "        \n",
    "    def forward(self, seq_list):\n",
    "        batch_size = len(seq_list)\n",
    "        lens = [len(s) for s in seq_list]\n",
    "        max_len = lens[0]\n",
    "        \n",
    "        input_padded = rnn.pad_sequence(seq_list, batch_first=True)\n",
    "        input_pack = rnn.pack_padded_sequence(input_padded, batch_first=True, lengths=lens)\n",
    "        \n",
    "        output_pack, _ = self.rnn(input_pack)\n",
    "        \n",
    "        output, _ = rnn.pad_packed_sequence(output_pack)\n",
    "        \n",
    "        return output, lens"
   ]
  },
  {
   "cell_type": "code",
   "execution_count": 10,
   "metadata": {},
   "outputs": [],
   "source": [
    "class Trainer:\n",
    "    \n",
    "    def __init__(self, input_size, output_size, data_loader, nlayers, cell_type='LSTM'):\n",
    "        self.model = RNN(input_size=input_size, hidden_size=output_size, output_size=output_size, nlayers=nlayers, rnn_type=cell_type)\n",
    "        \n",
    "        self.data_loader = data_loader\n",
    "        self.optimizer = torch.optim.SGD(params=self.model.parameters(), lr=0.00002)\n",
    "        self.criterion = torch.nn.CrossEntropyLoss()\n",
    "        \n",
    "    def train(self, epoches):\n",
    "        print(\"Start Training...\")\n",
    "        for epoch in range(epoches):\n",
    "            for batch_size, (data, target) in enumerate(self.data_loader):\n",
    "                self.optimizer.zero_grad()\n",
    "                output, lens = self.model(data)\n",
    "                preds = [output[:lens[i], i] for i in range(len(data))]\n",
    "                preds = torch.cat(preds, dim=0)\n",
    "                target = torch.cat(target, dim=0).type(torch.LongTensor)\n",
    "                loss = self.criterion(preds, target)\n",
    "                loss.backward()\n",
    "            \n",
    "            if epoch % 2 == 0:\n",
    "                print(\"Validation...\")"
   ]
  },
  {
   "cell_type": "code",
   "execution_count": 11,
   "metadata": {},
   "outputs": [],
   "source": [
    "trainer = Trainer(input_size=2000, output_size=2000, data_loader=train_data_loader, nlayers=2)"
   ]
  },
  {
   "cell_type": "code",
   "execution_count": 12,
   "metadata": {},
   "outputs": [
    {
     "name": "stdout",
     "output_type": "stream",
     "text": [
      "Start Training...\n",
      "torch.Size([1100, 2000]) torch.Size([1100])\n",
      "torch.Size([1270, 2000]) torch.Size([1270])\n",
      "torch.Size([1291, 2000]) torch.Size([1291])\n"
     ]
    },
    {
     "ename": "KeyboardInterrupt",
     "evalue": "",
     "output_type": "error",
     "traceback": [
      "\u001b[0;31m---------------------------------------------------------------------------\u001b[0m",
      "\u001b[0;31mKeyboardInterrupt\u001b[0m                         Traceback (most recent call last)",
      "\u001b[0;32m<ipython-input-12-a659739fe524>\u001b[0m in \u001b[0;36m<module>\u001b[0;34m()\u001b[0m\n\u001b[0;32m----> 1\u001b[0;31m \u001b[0mtrainer\u001b[0m\u001b[0;34m.\u001b[0m\u001b[0mtrain\u001b[0m\u001b[0;34m(\u001b[0m\u001b[0;36m10\u001b[0m\u001b[0;34m)\u001b[0m\u001b[0;34m\u001b[0m\u001b[0m\n\u001b[0m",
      "\u001b[0;32m<ipython-input-10-12dd1ba3e19a>\u001b[0m in \u001b[0;36mtrain\u001b[0;34m(self, epoches)\u001b[0m\n\u001b[1;32m     22\u001b[0m \u001b[0;34m\u001b[0m\u001b[0m\n\u001b[1;32m     23\u001b[0m                 \u001b[0mloss\u001b[0m \u001b[0;34m=\u001b[0m \u001b[0mself\u001b[0m\u001b[0;34m.\u001b[0m\u001b[0mcriterion\u001b[0m\u001b[0;34m(\u001b[0m\u001b[0mpreds\u001b[0m\u001b[0;34m,\u001b[0m \u001b[0mtarget\u001b[0m\u001b[0;34m)\u001b[0m\u001b[0;34m\u001b[0m\u001b[0m\n\u001b[0;32m---> 24\u001b[0;31m                 \u001b[0mloss\u001b[0m\u001b[0;34m.\u001b[0m\u001b[0mbackward\u001b[0m\u001b[0;34m(\u001b[0m\u001b[0;34m)\u001b[0m\u001b[0;34m\u001b[0m\u001b[0m\n\u001b[0m\u001b[1;32m     25\u001b[0m \u001b[0;34m\u001b[0m\u001b[0m\n\u001b[1;32m     26\u001b[0m             \u001b[0;32mif\u001b[0m \u001b[0mepoch\u001b[0m \u001b[0;34m%\u001b[0m \u001b[0;36m2\u001b[0m \u001b[0;34m==\u001b[0m \u001b[0;36m0\u001b[0m\u001b[0;34m:\u001b[0m\u001b[0;34m\u001b[0m\u001b[0m\n",
      "\u001b[0;32m/anaconda2/envs/torch/lib/python3.6/site-packages/torch/tensor.py\u001b[0m in \u001b[0;36mbackward\u001b[0;34m(self, gradient, retain_graph, create_graph)\u001b[0m\n\u001b[1;32m     91\u001b[0m                 \u001b[0mproducts\u001b[0m\u001b[0;34m.\u001b[0m \u001b[0mDefaults\u001b[0m \u001b[0mto\u001b[0m\u001b[0;31m \u001b[0m\u001b[0;31m`\u001b[0m\u001b[0;31m`\u001b[0m\u001b[0;32mFalse\u001b[0m\u001b[0;31m`\u001b[0m\u001b[0;31m`\u001b[0m\u001b[0;34m.\u001b[0m\u001b[0;34m\u001b[0m\u001b[0m\n\u001b[1;32m     92\u001b[0m         \"\"\"\n\u001b[0;32m---> 93\u001b[0;31m         \u001b[0mtorch\u001b[0m\u001b[0;34m.\u001b[0m\u001b[0mautograd\u001b[0m\u001b[0;34m.\u001b[0m\u001b[0mbackward\u001b[0m\u001b[0;34m(\u001b[0m\u001b[0mself\u001b[0m\u001b[0;34m,\u001b[0m \u001b[0mgradient\u001b[0m\u001b[0;34m,\u001b[0m \u001b[0mretain_graph\u001b[0m\u001b[0;34m,\u001b[0m \u001b[0mcreate_graph\u001b[0m\u001b[0;34m)\u001b[0m\u001b[0;34m\u001b[0m\u001b[0m\n\u001b[0m\u001b[1;32m     94\u001b[0m \u001b[0;34m\u001b[0m\u001b[0m\n\u001b[1;32m     95\u001b[0m     \u001b[0;32mdef\u001b[0m \u001b[0mregister_hook\u001b[0m\u001b[0;34m(\u001b[0m\u001b[0mself\u001b[0m\u001b[0;34m,\u001b[0m \u001b[0mhook\u001b[0m\u001b[0;34m)\u001b[0m\u001b[0;34m:\u001b[0m\u001b[0;34m\u001b[0m\u001b[0m\n",
      "\u001b[0;32m/anaconda2/envs/torch/lib/python3.6/site-packages/torch/autograd/__init__.py\u001b[0m in \u001b[0;36mbackward\u001b[0;34m(tensors, grad_tensors, retain_graph, create_graph, grad_variables)\u001b[0m\n\u001b[1;32m     88\u001b[0m     Variable._execution_engine.run_backward(\n\u001b[1;32m     89\u001b[0m         \u001b[0mtensors\u001b[0m\u001b[0;34m,\u001b[0m \u001b[0mgrad_tensors\u001b[0m\u001b[0;34m,\u001b[0m \u001b[0mretain_graph\u001b[0m\u001b[0;34m,\u001b[0m \u001b[0mcreate_graph\u001b[0m\u001b[0;34m,\u001b[0m\u001b[0;34m\u001b[0m\u001b[0m\n\u001b[0;32m---> 90\u001b[0;31m         allow_unreachable=True)  # allow_unreachable flag\n\u001b[0m\u001b[1;32m     91\u001b[0m \u001b[0;34m\u001b[0m\u001b[0m\n\u001b[1;32m     92\u001b[0m \u001b[0;34m\u001b[0m\u001b[0m\n",
      "\u001b[0;31mKeyboardInterrupt\u001b[0m: "
     ]
    }
   ],
   "source": [
    "trainer.train(10)"
   ]
  }
 ],
 "metadata": {
  "kernelspec": {
   "display_name": "Python 3",
   "language": "python",
   "name": "python3"
  },
  "language_info": {
   "codemirror_mode": {
    "name": "ipython",
    "version": 3
   },
   "file_extension": ".py",
   "mimetype": "text/x-python",
   "name": "python",
   "nbconvert_exporter": "python",
   "pygments_lexer": "ipython3",
   "version": "3.6.6"
  }
 },
 "nbformat": 4,
 "nbformat_minor": 2
}
